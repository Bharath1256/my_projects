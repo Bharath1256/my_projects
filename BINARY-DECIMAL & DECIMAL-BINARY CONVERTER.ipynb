{
 "cells": [
  {
   "cell_type": "code",
   "execution_count": 1,
   "id": "d67eaea7",
   "metadata": {},
   "outputs": [],
   "source": [
    "import tkinter as tk"
   ]
  },
  {
   "cell_type": "code",
   "execution_count": 2,
   "id": "1c33fd41",
   "metadata": {},
   "outputs": [],
   "source": [
    "def decimal_to_binary():\n",
    "    try:\n",
    "        decimal_num = int(input_field.get())\n",
    "        binary_num = bin(decimal_num).replace(\"0b\", \"\")\n",
    "        output_label.config(text=f\"Binary: {binary_num}\")\n",
    "    except ValueError:\n",
    "        output_label.config(text=\"Invalid input. Please enter a decimal number.\")\n",
    "\n",
    "def binary_to_decimal():\n",
    "    try:\n",
    "        binary_num = input_field.get()\n",
    "        decimal_num = int(binary_num, 2)\n",
    "        output_label.config(text=f\"Decimal: {decimal_num}\")\n",
    "    except ValueError:\n",
    "        output_label.config(text=\"Invalid input. Please enter a valid binary number.\")\n",
    "    \n",
    "def clear_output():\n",
    "    output_label.config(text=\"\")\n",
    "    \n",
    "root = tk.Tk()\n",
    "root.title(\"Binary-Decimal Converter\")\n",
    "\n",
    "menu_frame = tk.Frame(root)\n",
    "menu_frame.pack()\n",
    "\n",
    "decimal_to_binary_button = tk.Button(menu_frame, text=\"Decimal to Binary\", command=decimal_to_binary)\n",
    "decimal_to_binary_button.pack(side=tk.LEFT)\n",
    "\n",
    "binary_to_decimal_button = tk.Button(menu_frame, text=\"Binary to Decimal\", command=binary_to_decimal)\n",
    "binary_to_decimal_button.pack(side=tk.LEFT)\n",
    "\n",
    "clear_button = tk.Button(root, text=\"Clear\", command=clear_output)\n",
    "clear_button.pack()\n",
    "\n",
    "input_field = tk.Entry(root)\n",
    "input_field.pack()\n",
    "\n",
    "convert_button = tk.Button(root, text=\"Convert\", command=lambda: None)\n",
    "convert_button.pack()\n",
    "\n",
    "output_label = tk.Label(root, text=\"\", pady=10)\n",
    "output_label.pack()\n",
    "\n",
    "root.mainloop()"
   ]
  }
 ],
 "metadata": {
  "kernelspec": {
   "display_name": "Python 3 (ipykernel)",
   "language": "python",
   "name": "python3"
  },
  "language_info": {
   "codemirror_mode": {
    "name": "ipython",
    "version": 3
   },
   "file_extension": ".py",
   "mimetype": "text/x-python",
   "name": "python",
   "nbconvert_exporter": "python",
   "pygments_lexer": "ipython3",
   "version": "3.10.9"
  }
 },
 "nbformat": 4,
 "nbformat_minor": 5
}
