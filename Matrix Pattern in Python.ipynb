{
 "cells": [
  {
   "cell_type": "code",
   "execution_count": 1,
   "id": "9aa48720",
   "metadata": {},
   "outputs": [
    {
     "name": "stdout",
     "output_type": "stream",
     "text": [
      "Enter the numberof rows:4\n",
      "Enter the number of columns:3\n",
      "[1, 2, 4]\n",
      "[7, 8, 10]\n",
      "[13, 14, 16]\n",
      "[19, 20, 22]\n"
     ]
    }
   ],
   "source": [
    "def create_matrix(rows,columns):\n",
    "    matrix=[]\n",
    "    num=1\n",
    "    for a in range(rows):\n",
    "        row=[]\n",
    "        for a in range(columns):\n",
    "            row.append(num)\n",
    "            num+=1+a\n",
    "        matrix.append(row)\n",
    "    return matrix\n",
    "\n",
    "rows=int(input(\"Enter the numberof rows:\"))\n",
    "columns=int(input(\"Enter the number of columns:\"))\n",
    "matrix=create_matrix(rows,columns)\n",
    "for ro in matrix:\n",
    "    print(ro)"
   ]
  },
  {
   "cell_type": "code",
   "execution_count": null,
   "id": "056b8a4b",
   "metadata": {},
   "outputs": [],
   "source": []
  }
 ],
 "metadata": {
  "kernelspec": {
   "display_name": "Python 3 (ipykernel)",
   "language": "python",
   "name": "python3"
  },
  "language_info": {
   "codemirror_mode": {
    "name": "ipython",
    "version": 3
   },
   "file_extension": ".py",
   "mimetype": "text/x-python",
   "name": "python",
   "nbconvert_exporter": "python",
   "pygments_lexer": "ipython3",
   "version": "3.10.9"
  }
 },
 "nbformat": 4,
 "nbformat_minor": 5
}
