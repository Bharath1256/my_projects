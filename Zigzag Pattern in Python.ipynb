{
 "cells": [
  {
   "cell_type": "code",
   "execution_count": 1,
   "id": "82729fe3",
   "metadata": {},
   "outputs": [
    {
     "name": "stdout",
     "output_type": "stream",
     "text": [
      "Enter the size of the sign: 5\n",
      " >\n",
      "  >\n",
      "   >\n",
      "    >\n",
      "     >\n",
      "    <\n",
      "   <\n",
      "  <\n",
      " <\n",
      "<\n"
     ]
    }
   ],
   "source": [
    "def zigzag(size):\n",
    "    \n",
    "    for i in range(size):\n",
    "        for j in range(i+1):\n",
    "            print(\" \",end=\"\")\n",
    "        print(\">\")\n",
    "        \n",
    "    for i in range(size):\n",
    "        for j in range(size-i-1):\n",
    "            print(\" \",end=\"\")\n",
    "        print(\"<\")\n",
    "        \n",
    "size=int(input(\"Enter the size of the sign: \"))\n",
    "zigzag(size)"
   ]
  },
  {
   "cell_type": "code",
   "execution_count": null,
   "id": "0b6cbd9e",
   "metadata": {},
   "outputs": [],
   "source": []
  }
 ],
 "metadata": {
  "kernelspec": {
   "display_name": "Python 3 (ipykernel)",
   "language": "python",
   "name": "python3"
  },
  "language_info": {
   "codemirror_mode": {
    "name": "ipython",
    "version": 3
   },
   "file_extension": ".py",
   "mimetype": "text/x-python",
   "name": "python",
   "nbconvert_exporter": "python",
   "pygments_lexer": "ipython3",
   "version": "3.10.9"
  }
 },
 "nbformat": 4,
 "nbformat_minor": 5
}
