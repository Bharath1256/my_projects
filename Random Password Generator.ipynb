{
 "cells": [
  {
   "cell_type": "code",
   "execution_count": 1,
   "id": "3bb7d48e",
   "metadata": {},
   "outputs": [
    {
     "name": "stdout",
     "output_type": "stream",
     "text": [
      "Random Password of length 10 : tyqf9dxGaK\n"
     ]
    }
   ],
   "source": [
    "import random\n",
    "import string\n",
    "length=10\n",
    "password=''.join(random.choices(string.ascii_letters+string.digits, k=length))\n",
    "print(\"Random Password of length\",length,\":\",password)"
   ]
  },
  {
   "cell_type": "code",
   "execution_count": null,
   "id": "16dbcaa4",
   "metadata": {},
   "outputs": [],
   "source": []
  }
 ],
 "metadata": {
  "kernelspec": {
   "display_name": "Python 3 (ipykernel)",
   "language": "python",
   "name": "python3"
  },
  "language_info": {
   "codemirror_mode": {
    "name": "ipython",
    "version": 3
   },
   "file_extension": ".py",
   "mimetype": "text/x-python",
   "name": "python",
   "nbconvert_exporter": "python",
   "pygments_lexer": "ipython3",
   "version": "3.10.9"
  }
 },
 "nbformat": 4,
 "nbformat_minor": 5
}
