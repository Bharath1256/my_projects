{
 "cells": [
  {
   "cell_type": "markdown",
   "id": "348c5235",
   "metadata": {},
   "source": [
    "AREA OF CIRCLE"
   ]
  },
  {
   "cell_type": "code",
   "execution_count": 1,
   "id": "a29efb61",
   "metadata": {},
   "outputs": [
    {
     "name": "stdout",
     "output_type": "stream",
     "text": [
      "Enter the radius of the circle:12\n",
      "The area of the circle is: 452.3893421169302\n"
     ]
    }
   ],
   "source": [
    "import math\n",
    "\n",
    "def cal_circle_area(radius):\n",
    "    area=math.pi*radius**2\n",
    "    return area\n",
    "\n",
    "radius=float(input(\"Enter the radius of the circle:\"))\n",
    "circle_area=cal_circle_area(radius)\n",
    "print(\"The area of the circle is:\",circle_area)"
   ]
  },
  {
   "cell_type": "markdown",
   "id": "ae76debf",
   "metadata": {},
   "source": [
    "AREA OF RECTANGLE"
   ]
  },
  {
   "cell_type": "code",
   "execution_count": 2,
   "id": "39ba932a",
   "metadata": {},
   "outputs": [
    {
     "name": "stdout",
     "output_type": "stream",
     "text": [
      "Enter the length of the rectangle:8\n",
      "Enter the breadth of the rectangle:4\n",
      "Area of the rectangle is: 32\n"
     ]
    }
   ],
   "source": [
    "import math\n",
    "def area_rectangle(l,b):\n",
    "    area=l*b\n",
    "    return area\n",
    "length=int(input(\"Enter the length of the rectangle:\"))\n",
    "breadth=int(input(\"Enter the breadth of the rectangle:\"))\n",
    "result=area_rectangle(length,breadth)\n",
    "print(\"Area of the rectangle is:\",result)"
   ]
  },
  {
   "cell_type": "markdown",
   "id": "4750c20d",
   "metadata": {},
   "source": [
    "AREA OF SQUARE"
   ]
  },
  {
   "cell_type": "code",
   "execution_count": 3,
   "id": "053aa085",
   "metadata": {},
   "outputs": [
    {
     "name": "stdout",
     "output_type": "stream",
     "text": [
      "Enter the length of the square's side:5\n",
      "The area of the square is: 25.0\n"
     ]
    }
   ],
   "source": [
    "def cal_square_area(sidelength):\n",
    "    area=sidelength**2\n",
    "    return area\n",
    "sidelength=float(input(\"Enter the length of the square's side:\"))\n",
    "square_area=cal_square_area(sidelength)\n",
    "print(\"The area of the square is:\",square_area)"
   ]
  },
  {
   "cell_type": "markdown",
   "id": "8bf5b6ce",
   "metadata": {},
   "source": [
    "AREA OF TRIANGLE"
   ]
  },
  {
   "cell_type": "code",
   "execution_count": 4,
   "id": "2e8b7e0b",
   "metadata": {},
   "outputs": [
    {
     "name": "stdout",
     "output_type": "stream",
     "text": [
      "Enter the length of the triangle's base:7\n",
      "Enter the height of the triangle:9\n",
      "The area of the triangle is: 31.5\n"
     ]
    }
   ],
   "source": [
    "def cal_tri_area(base,height):\n",
    "    area=0.5*base*height\n",
    "    return area\n",
    "base=float(input(\"Enter the length of the triangle's base:\"))\n",
    "height=float(input(\"Enter the height of the triangle:\"))\n",
    "tri_area=cal_tri_area(base,height)\n",
    "print(\"The area of the triangle is:\",tri_area)"
   ]
  },
  {
   "cell_type": "markdown",
   "id": "d67d1843",
   "metadata": {},
   "source": [
    "AREA OF A CONE"
   ]
  },
  {
   "cell_type": "code",
   "execution_count": 5,
   "id": "bdabeb10",
   "metadata": {},
   "outputs": [
    {
     "name": "stdout",
     "output_type": "stream",
     "text": [
      "Enter the radius of the cone's base:6\n",
      "Enter the slant height of the cone:6\n",
      "The area of the cone is: 226.1946710584651\n"
     ]
    }
   ],
   "source": [
    "import math\n",
    "\n",
    "def cal_cone_area(radius,slant_height):\n",
    "    base_area=math.pi*radius**2\n",
    "    lateral_area=math.pi*radius*slant_height\n",
    "    total_area=base_area+lateral_area\n",
    "    return total_area\n",
    "\n",
    "radius=float(input(\"Enter the radius of the cone's base:\"))\n",
    "slant_height=float(input(\"Enter the slant height of the cone:\"))\n",
    "\n",
    "cone_area=cal_cone_area(radius,slant_height)\n",
    "print(\"The area of the cone is:\",cone_area)"
   ]
  },
  {
   "cell_type": "markdown",
   "id": "695f82b5",
   "metadata": {},
   "source": [
    "AREA OF CUBE"
   ]
  },
  {
   "cell_type": "code",
   "execution_count": 6,
   "id": "2b71d032",
   "metadata": {},
   "outputs": [
    {
     "name": "stdout",
     "output_type": "stream",
     "text": [
      "Enter the length of the cube's side:6\n",
      "The area of the cube is: 216.0\n"
     ]
    }
   ],
   "source": [
    "def cal_cube_area(sidelength):\n",
    "    surface_area=6*sidelength**2\n",
    "    return surface_area\n",
    "\n",
    "sidelength=float(input(\"Enter the length of the cube's side:\"))\n",
    "cube_area=cal_cube_area(sidelength)\n",
    "print(\"The area of the cube is:\",cube_area)"
   ]
  },
  {
   "cell_type": "markdown",
   "id": "2e70f5a5",
   "metadata": {},
   "source": [
    "AREA OF CYLINDER"
   ]
  },
  {
   "cell_type": "code",
   "execution_count": 7,
   "id": "d2738c19",
   "metadata": {},
   "outputs": [
    {
     "name": "stdout",
     "output_type": "stream",
     "text": [
      "Enter the radius of the cylinder's base:7\n",
      "Enter the height of the cylinder:7\n",
      "The area of the cylinder is: 461.81412007769956\n"
     ]
    }
   ],
   "source": [
    "import math\n",
    "\n",
    "def cal_cyl_area(radius,height):\n",
    "    base_area=math.pi*radius**2\n",
    "    lateral_area=2*math.pi*radius*height\n",
    "    total_area=base_area+lateral_area\n",
    "    return total_area\n",
    "\n",
    "radius=float(input(\"Enter the radius of the cylinder's base:\"))\n",
    "height=float(input(\"Enter the height of the cylinder:\"))\n",
    "cyl_area=cal_cyl_area(radius,height)\n",
    "print(\"The area of the cylinder is:\",cyl_area)"
   ]
  },
  {
   "cell_type": "markdown",
   "id": "67436b58",
   "metadata": {},
   "source": [
    "AREA OF SPHERE"
   ]
  },
  {
   "cell_type": "code",
   "execution_count": 8,
   "id": "0a25ffe1",
   "metadata": {},
   "outputs": [
    {
     "name": "stdout",
     "output_type": "stream",
     "text": [
      "enter the radius of the sphere:8\n",
      "The area of the sphere is: 804.247719318987\n"
     ]
    }
   ],
   "source": [
    "import math\n",
    "\n",
    "def cal_sph_area(radius):\n",
    "    sur_area=4*math.pi*radius**2\n",
    "    return sur_area\n",
    "\n",
    "radius=float(input(\"enter the radius of the sphere:\"))\n",
    "sph_area=cal_sph_area(radius)\n",
    "print(\"The area of the sphere is:\",sph_area)"
   ]
  },
  {
   "cell_type": "code",
   "execution_count": null,
   "id": "ef8b7f18",
   "metadata": {},
   "outputs": [],
   "source": []
  }
 ],
 "metadata": {
  "kernelspec": {
   "display_name": "Python 3 (ipykernel)",
   "language": "python",
   "name": "python3"
  },
  "language_info": {
   "codemirror_mode": {
    "name": "ipython",
    "version": 3
   },
   "file_extension": ".py",
   "mimetype": "text/x-python",
   "name": "python",
   "nbconvert_exporter": "python",
   "pygments_lexer": "ipython3",
   "version": "3.10.9"
  }
 },
 "nbformat": 4,
 "nbformat_minor": 5
}
